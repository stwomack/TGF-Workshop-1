{
 "cells": [
  {
   "cell_type": "code",
   "execution_count": 6,
   "metadata": {},
   "outputs": [
    {
     "name": "stdout",
     "output_type": "stream",
     "text": [
      "zsh: event not found: [VMware\n"
     ]
    }
   ],
   "source": [
    "![VMware Tanzu](images/vmware-tanzu.png \"VMware Tanzu\") "
   ]
  },
  {
   "cell_type": "code",
   "execution_count": 2,
   "metadata": {},
   "outputs": [
    {
     "name": "stdout",
     "output_type": "stream",
     "text": [
      "zsh: parse error near `\\n'\n",
      "zsh: parse error near `\\n'\n",
      "zsh: parse error near `\\n'\n",
      "zsh: command not found: HelloWorldDemo.ipynb\n",
      "zsh: missing end of string\n",
      "zsh: unknown file attribute: v\n",
      "zsh: no matches found: scale?\n"
     ]
    }
   ],
   "source": [
    "# Tanzu Training Overview"
   ]
  },
  {
   "cell_type": "code",
   "execution_count": 3,
   "metadata": {},
   "outputs": [],
   "source": [
    "cd cloud-cache-examples/hello-world"
   ]
  },
  {
   "cell_type": "raw",
   "metadata": {},
   "source": [
    "cat gradle.properties"
   ]
  },
  {
   "cell_type": "markdown",
   "metadata": {},
   "source": [
    "./gradlew build"
   ]
  },
  {
   "cell_type": "code",
   "execution_count": 4,
   "metadata": {},
   "outputs": [
    {
     "name": "stdout",
     "output_type": "stream",
     "text": [
      "#  Copyright (C) 2019-Present Pivotal Software, Inc. All rights reserved.\n",
      "#\n",
      "#  This program and the accompanying materials are made available under the terms of the under the Apache License, Version\n",
      "#  2.0 (the \"License”); you may not use this file except in compliance with the License. You may obtain a copy of the\n",
      "#  License at\n",
      "#\n",
      "#  http://www.apache.org/licenses/LICENSE-2.0\n",
      "#\n",
      "#  Unless required by applicable law or agreed to in writing, software distributed under the License is distributed on an\n",
      "#  \"AS IS\" BASIS, WITHOUT WARRANTIES OR CONDITIONS OF ANY KIND, either express or implied. See the License for the specific\n",
      "\n",
      "---\n",
      "applications:\n",
      "  - name: helloworld\n",
      "    path: ./build/libs/hello-world.jar\n",
      "    services:\n",
      "      - tgf-small\n",
      "\n",
      "\n"
     ]
    }
   ],
   "source": [
    "cat manifest.yml"
   ]
  },
  {
   "cell_type": "code",
   "execution_count": 5,
   "metadata": {},
   "outputs": [
    {
     "name": "stdout",
     "output_type": "stream",
     "text": [
      "Using manifest file \u001b[36;1m/Users/swomack/workspace-tgf/cloud-cache-examples/hello-world/manifest.yml\u001b[0m\n",
      "\n",
      "\u001b[31;1mFAILED\u001b[0m\n",
      "Authentication has expired.  Please log back in to re-authenticate.\n",
      "\n",
      "TIP: Use `cf login -a <endpoint> -u <user> -o <org> -s <space>` to log back in and re-authenticate.\n"
     ]
    }
   ],
   "source": [
    "cf push"
   ]
  },
  {
   "cell_type": "code",
   "execution_count": null,
   "metadata": {},
   "outputs": [],
   "source": []
  }
 ],
 "metadata": {
  "kernelspec": {
   "display_name": "Z shell",
   "language": "zsh",
   "name": "zsh"
  },
  "language_info": {
   "codemirror_mode": "shell",
   "file_extension": ".zsh",
   "mimetype": "text/x-zsh",
   "name": "zsh",
   "pygments_lexer": "shell",
   "version": "5.7.1"
  }
 },
 "nbformat": 4,
 "nbformat_minor": 4
}
