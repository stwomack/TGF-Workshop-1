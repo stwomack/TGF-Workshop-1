{
 "cells": [
  {
   "cell_type": "code",
   "execution_count": 1,
   "metadata": {},
   "outputs": [],
   "source": [
    "cd cloud-cache-examples/look-aside-cache"
   ]
  },
  {
   "cell_type": "code",
   "execution_count": 2,
   "metadata": {},
   "outputs": [
    {
     "name": "stdout",
     "output_type": "stream",
     "text": [
      "#\n",
      "# Copyright (C) 2019-Present Pivotal Software, Inc. All rights reserved.\n",
      "#\n",
      "# This program and the accompanying materials are made available under the terms of the under the Apache License, Version\n",
      "# 2.0 (the \"License”); you may not use this file except in compliance with the License. You may obtain a copy of the\n",
      "# License at\n",
      "#\n",
      "# http://www.apache.org/licenses/LICENSE-2.0\n",
      "#\n",
      "# Unless required by applicable law or agreed to in writing, software distributed under the License is distributed on an\n",
      "# \"AS IS\" BASIS, WITHOUT WARRANTIES OR CONDITIONS OF ANY KIND, either express or implied. See the License for the specific\n",
      "# language governing permissions and limitations under the License.\n",
      "#\n",
      "\n",
      "springBootVersion=2.2.4.RELEASE\n",
      "springGemfireStarterVersion=1.2.4.RELEASE\n",
      "javaVersion=1.8\n",
      "\n",
      "# Register here: https://commercial-repo.pivotal.io/login/auth to get your username and password\n",
      "# For further details, see the README for this app: https://github.com/pivotal/cloud-cache-examples/tree/master/hello-world#app-dependencies\n",
      "gemfireReleaseRepoUser=swomack@pivotal.io\n"
     ]
    }
   ],
   "source": [
    "cat gradle.properties"
   ]
  },
  {
   "cell_type": "code",
   "execution_count": 3,
   "metadata": {},
   "outputs": [
    {
     "name": "stdout",
     "output_type": "stream",
     "text": [
      "Starting a Gradle Daemon (subsequent builds will be faster)\n",
      "\n",
      "\n",
      "\u001b[2A\u001b[1B\u001b[1m> Starting Daemon\u001b[m\u001b[17D\u001b[1B\u001b[1A> IDLE\u001b[0K\u001b[6D\u001b[1B\u001b[2A\u001b[1m<\u001b[0;1m-------------> 0% INITIALIZING [0s]\u001b[m\u001b[36D\u001b[1B\u001b[1m> Evaluating settings\u001b[m\u001b[21D\u001b[1B\u001b[2A\u001b[1m<\u001b[0;1m-------------> 0% CONFIGURING [0s]\u001b[m\u001b[0K\u001b[35D\u001b[1B\u001b[1m> Loading projects\u001b[m\u001b[0K\u001b[18D\u001b[1B\u001b[1A> IDLE\u001b[0K\u001b[6D\u001b[1B\u001b[1A\u001b[1m> root project\u001b[m\u001b[14D\u001b[1B\u001b[2A\u001b[1m<\u001b[0;1m-------------> 0% CONFIGURING [1s]\u001b[m\u001b[35D\u001b[2B\u001b[1A\u001b[1m> root project > Resolve dependencies of :classpath\u001b[m\u001b[51D\u001b[1B\u001b[1A\u001b[1m> root project\u001b[m\u001b[0K\u001b[14D\u001b[1B\u001b[2A\u001b[1m<\u001b[0;32;1m=============\u001b[0;39;1m> 100% CONFIGURING [2s]\u001b[m\u001b[37D\u001b[1B> IDLE\u001b[0K\u001b[6D\u001b[1B\u001b[2A\u001b[1m<\u001b[0;1m-------------> 0% EXECUTING [2s]\u001b[m\u001b[0K\u001b[33D\u001b[1B\u001b[1m> :compileJava > Resolve dependencies of :compileClasspath\u001b[m\u001b[58D\u001b[1B\u001b[1A\u001b[1m> :compileJava > Resolve dependencies of :compileClasspath > Resolve dependenci\u001b[m\u001b[79D\u001b[1B\u001b[1A\u001b[1m> :compileJava > Resolve dependencies of :compileClasspath > Resolve files of :\u001b[m\u001b[79D\u001b[1B\u001b[1A\u001b[1m> :compileJava > Resolve dependencies of :compileClasspath\u001b[m\u001b[0K\u001b[58D\u001b[1B\u001b[2A\u001b[1m<\u001b[0;1m-------------> 0% EXECUTING [3s]\u001b[m\u001b[33D\u001b[2B\u001b[1A\u001b[1m> :compileJava > Resolve dependencies of :compileClasspath > Resolve dependenci\u001b[m\u001b[79D\u001b[1B\u001b[1A\u001b[1m> :compileJava > Resolve dependencies of :compileClasspath\u001b[m\u001b[0K\u001b[58D\u001b[1B\u001b[1A\u001b[1m> :compileJava\u001b[m\u001b[0K\u001b[14D\u001b[1B\u001b[2A\u001b[1m<\u001b[0;32;1m===\u001b[0;39;1m----------> 25% EXECUTING [3s]\u001b[m\u001b[34D\u001b[1B\u001b[1m> :bootJar > Resolve dependencies of :runtimeClasspath > Resolve dependencies o\u001b[m\u001b[79D\u001b[1B\u001b[2A\u001b[1m<\u001b[0;32;1m===\u001b[0;39;1m----------> 25% EXECUTING [4s]\u001b[m\u001b[34D\u001b[1B\u001b[1m> :bootJar\u001b[m\u001b[0K\u001b[10D\u001b[1B\u001b[2A\u001b[1m<\u001b[0;32;1m======\u001b[0;39;1m-------> 50% EXECUTING [4s]\u001b[m\u001b[34D\u001b[1B\u001b[1m> :compileTestJava > Resolve dependencies of :testCompileClasspath > Resolve de\u001b[m\u001b[79D\u001b[1B\u001b[1A\u001b[1m> :compileTestJava > Resolve dependencies of :testCompileClasspath\u001b[m\u001b[0K\u001b[66D\u001b[1B\u001b[1A\u001b[1m> :compileTestJava\u001b[m\u001b[0K\u001b[18D\u001b[1B\u001b[2A\u001b[1m<\u001b[0;32;1m======\u001b[0;39;1m-------> 50% EXECUTING [5s]\u001b[m\u001b[34D\u001b[2B\u001b[2A\u001b[1m<\u001b[0;32;1m=========\u001b[0;39;1m----> 75% EXECUTING [5s]\u001b[m\u001b[34D\u001b[1B\u001b[1m> :test\u001b[m\u001b[0K\u001b[7D\u001b[1B\u001b[1A\u001b[1m> :test > Resolve dependencies of :testRuntimeClasspath\u001b[m\u001b[55D\u001b[1B\u001b[2A\u001b[1m<\u001b[0;32;1m=========\u001b[0;39;1m----> 75% EXECUTING [6s]\u001b[m\u001b[34D\u001b[1B\u001b[1m> :test\u001b[m\u001b[0K\u001b[7D\u001b[1B\u001b[1A\u001b[1m> :test > 0 tests completed\u001b[m\u001b[27D\u001b[1B\n",
      "\u001b[1A\u001b[1m> :test > Executing test io.pivotal...lookasidecache.controllers.ViewController\u001b[m\u001b[79D\u001b[1B\u001b[3A\u001b[1m<\u001b[0;32;1m=========\u001b[0;39;1m----> 75% EXECUTING [7s]\u001b[m\u001b[34D\u001b[3B\u001b[3A\u001b[1m<\u001b[0;32;1m=========\u001b[0;39;1m----> 75% EXECUTING [8s]\u001b[m\u001b[34D\u001b[3B\u001b[3A\u001b[1m<\u001b[0;32;1m=========\u001b[0;39;1m----> 75% EXECUTING [9s]\u001b[m\u001b[34D\u001b[3B\u001b[3A\u001b[1m<\u001b[0;32;1m=========\u001b[0;39;1m----> 75% EXECUTING [10s]\u001b[m\u001b[35D\u001b[3B\u001b[3A\u001b[1m<\u001b[0;32;1m=========\u001b[0;39;1m----> 75% EXECUTING [11s]\u001b[m\u001b[35D\u001b[1B\u001b[1m> :test > 2 tests completed\u001b[m\u001b[27D\u001b[2B\u001b[2A\u001b[1m> :test > 4 tests completed\u001b[m\u001b[27D\u001b[1B\u001b[1m> :test > Executing test io.pivotal...services.BikeIncidentServiceTest\u001b[m\u001b[0K\u001b[70D\u001b[1B\u001b[3A\u001b[1m<\u001b[0;32;1m=========\u001b[0;39;1m----> 75% EXECUTING [12s]\u001b[m\u001b[35D\u001b[3B\u001b[3A\u001b[1m<\u001b[0;32;1m=========\u001b[0;39;1m----> 75% EXECUTING [13s]\u001b[m\u001b[35D\u001b[3B\u001b[3A\u001b[1m<\u001b[0;32;1m=========\u001b[0;39;1m----> 75% EXECUTING [14s]\u001b[m\u001b[35D\u001b[3B\u001b[3A\u001b[1m<\u001b[0;32;1m=========\u001b[0;39;1m----> 75% EXECUTING [15s]\u001b[m\u001b[35D\u001b[3B\u001b[3A\u001b[1m<\u001b[0;32;1m=========\u001b[0;39;1m----> 75% EXECUTING [16s]\u001b[m\u001b[35D\u001b[1B\u001b[1m> :test > 5 tests completed\u001b[m\u001b[27D\u001b[2B\u001b[3A\u001b[1m<\u001b[0;32;1m=========\u001b[0;39;1m----> 75% EXECUTING [17s]\u001b[m\u001b[35D\u001b[3B\u001b[2A\u001b[1m> :test > 6 tests completed\u001b[m\u001b[27D\u001b[1B> IDLE\u001b[0K\u001b[6D\u001b[1B\u001b[2A\u001b[1m> :test\u001b[m\u001b[0K\u001b[7D\u001b[2B\u001b[3A\u001b[0K\n",
      "\u001b[32;1mBUILD SUCCESSFUL\u001b[0;39m in 19s\n",
      "5 actionable tasks: 2 executed, 3 up-to-date\n",
      "\u001b[0K\n",
      "\u001b[0K\n",
      "\u001b[0K\n"
     ]
    }
   ],
   "source": [
    "./gradlew build"
   ]
  },
  {
   "cell_type": "code",
   "execution_count": 5,
   "metadata": {},
   "outputs": [
    {
     "name": "stdout",
     "output_type": "stream",
     "text": [
      "#Copyright (C) 2019-Present Pivotal Software, Inc. All rights reserved.\n",
      "#\n",
      "#This program and the accompanying materials are made available under the terms of the under the Apache License, Version\n",
      "#2.0 (the \"License”); you may not use this file except in compliance with the License. You may obtain a copy of the\n",
      "#License at\n",
      "#\n",
      "#http://www.apache.org/licenses/LICENSE-2.0\n",
      "#\n",
      "#Unless required by applicable law or agreed to in writing, software distributed under the License is distributed on an\n",
      "#\"AS IS\" BASIS, WITHOUT WARRANTIES OR CONDITIONS OF ANY KIND, either express or implied. See the License for the specific\n",
      "#language governing permissions and limitations under the License.\n",
      "\n",
      "---\n",
      "applications:\n",
      "  - name: bikeincidents\n",
      "    path: ./build/libs/look-aside-cache.jar\n",
      "    services:\n",
      "      - tgf-small\n",
      "\n"
     ]
    }
   ],
   "source": [
    "cat manifest.yml"
   ]
  },
  {
   "cell_type": "code",
   "execution_count": 6,
   "metadata": {},
   "outputs": [
    {
     "name": "stdout",
     "output_type": "stream",
     "text": [
      "Using manifest file \u001b[36;1m/Users/swomack/workspace-tgf/cloud-cache-examples/look-aside-cache/manifest.yml\u001b[0m\n",
      "\n",
      "Updating app \u001b[36;1mbikeincidents\u001b[0m in org \u001b[36;1mascension\u001b[0m / space \u001b[36;1mdev\u001b[0m as \u001b[36;1madmin\u001b[0m...\n",
      "\u001b[32;1mOK\u001b[0m\n",
      "\n",
      "Uploading \u001b[36;1mbikeincidents\u001b[0m...\n",
      "Uploading app files from: /var/folders/gx/chs6597d31n1v5ns2r6954040000gn/T/unzipped-app711434509\n",
      "Uploading 1018.2K, 136 files\n",
      "Done uploading               \n",
      "\u001b[32;1mOK\u001b[0m\n",
      "Binding service \u001b[36;1mtgf-small\u001b[0m to app \u001b[36;1mbikeincidents\u001b[0m in org \u001b[36;1mascension\u001b[0m / space \u001b[36;1mdev\u001b[0m as \u001b[36;1madmin\u001b[0m...\n",
      "\u001b[32;1mOK\u001b[0m\n",
      "\n",
      "Stopping app \u001b[36;1mbikeincidents\u001b[0m in org \u001b[36;1mascension\u001b[0m / space \u001b[36;1mdev\u001b[0m as \u001b[36;1madmin\u001b[0m...\n",
      "\u001b[32;1mOK\u001b[0m\n",
      "\n",
      "Starting app \u001b[36;1mbikeincidents\u001b[0m in org \u001b[36;1mascension\u001b[0m / space \u001b[36;1mdev\u001b[0m as \u001b[36;1madmin\u001b[0m...\n",
      "Downloading binary_buildpack...\n",
      "Downloading staticfile_buildpack...\n",
      "Downloading ruby_buildpack...\n",
      "Downloading java_buildpack_offline...\n",
      "Downloaded binary_buildpack\n",
      "Downloading r_buildpack...\n",
      "Downloaded staticfile_buildpack\n",
      "Downloading nginx_buildpack...\n",
      "Downloaded java_buildpack_offline\n",
      "Downloading nodejs_buildpack...\n",
      "Downloading go_buildpack...\n",
      "Downloaded ruby_buildpack\n",
      "Downloading php_buildpack...\n",
      "Downloaded r_buildpack\n",
      "Downloading python_buildpack...\n",
      "Downloaded nginx_buildpack\n",
      "Downloading dotnet_core_buildpack...\n",
      "Downloaded go_buildpack\n",
      "Downloaded nodejs_buildpack\n",
      "Downloaded php_buildpack\n",
      "Downloaded python_buildpack\n",
      "Downloaded dotnet_core_buildpack\n",
      "Cell 0c245c16-1764-49cf-b3ab-3123e0ae036a creating container for instance 10fa7018-1f80-46c7-9b47-f4559f2777de\n",
      "Cell 0c245c16-1764-49cf-b3ab-3123e0ae036a successfully created container for instance 10fa7018-1f80-46c7-9b47-f4559f2777de\n",
      "Downloading app package...\n",
      "Downloading build artifacts cache...\n",
      "Downloaded build artifacts cache (132B)\n",
      "Downloaded app package (67.8M)\n",
      "\u001b[1m\u001b[31m----->\u001b[0m\u001b[22m \u001b[1m\u001b[34mJava Buildpack\u001b[0m\u001b[22m \u001b[34mv4.29.1\u001b[0m \u001b[34m(offline)\u001b[0m | https://github.com/cloudfoundry/java-buildpack.git#864477c\n",
      "\u001b[1m\u001b[31m----->\u001b[0m\u001b[22m Downloading \u001b[1m\u001b[34mJvmkill Agent\u001b[0m\u001b[22m \u001b[34m1.16.0_RELEASE\u001b[0m from https://java-buildpack.cloudfoundry.org/jvmkill/bionic/x86_64/jvmkill-1.16.0-RELEASE.so \u001b[3m\u001b[32m(found in cache)\u001b[0m\u001b[23m\n",
      "\u001b[1m\u001b[31m----->\u001b[0m\u001b[22m Downloading \u001b[1m\u001b[34mOpen Jdk JRE\u001b[0m\u001b[22m \u001b[34m1.8.0_242\u001b[0m from https://java-buildpack.cloudfoundry.org/openjdk/bionic/x86_64/openjdk-jre-1.8.0_242-bionic.tar.gz \u001b[3m\u001b[32m(found in cache)\u001b[0m\u001b[23m\n",
      "       Expanding Open Jdk JRE to .java-buildpack/open_jdk_jre \u001b[3m\u001b[32m(1.2s)\u001b[0m\u001b[23m\n",
      "       JVM DNS caching disabled in lieu of BOSH DNS caching\n",
      "\u001b[1m\u001b[31m----->\u001b[0m\u001b[22m Downloading \u001b[1m\u001b[34mOpen JDK Like Memory Calculator\u001b[0m\u001b[22m \u001b[34m3.13.0_RELEASE\u001b[0m from https://java-buildpack.cloudfoundry.org/memory-calculator/bionic/x86_64/memory-calculator-3.13.0-RELEASE.tar.gz \u001b[3m\u001b[32m(found in cache)\u001b[0m\u001b[23m\n",
      "       Loaded Classes: 23134, Threads: 250\n",
      "\u001b[1m\u001b[31m----->\u001b[0m\u001b[22m Downloading \u001b[1m\u001b[34mClient Certificate Mapper\u001b[0m\u001b[22m \u001b[34m1.11.0_RELEASE\u001b[0m from https://java-buildpack.cloudfoundry.org/client-certificate-mapper/client-certificate-mapper-1.11.0-RELEASE.jar \u001b[3m\u001b[32m(found in cache)\u001b[0m\u001b[23m\n",
      "\u001b[1m\u001b[31m----->\u001b[0m\u001b[22m Downloading \u001b[1m\u001b[34mContainer Security Provider\u001b[0m\u001b[22m \u001b[34m1.16.0_RELEASE\u001b[0m from https://java-buildpack.cloudfoundry.org/container-security-provider/container-security-provider-1.16.0-RELEASE.jar \u001b[3m\u001b[32m(found in cache)\u001b[0m\u001b[23m\n",
      "\u001b[1m\u001b[31m----->\u001b[0m\u001b[22m Downloading \u001b[1m\u001b[34mSpring Auto Reconfiguration\u001b[0m\u001b[22m \u001b[34m2.11.0_RELEASE\u001b[0m from https://java-buildpack.cloudfoundry.org/auto-reconfiguration/auto-reconfiguration-2.11.0-RELEASE.jar \u001b[3m\u001b[32m(found in cache)\u001b[0m\u001b[23m\n",
      "Exit status 0\n",
      "Uploading droplet, build artifacts cache...\n",
      "Uploading droplet...\n",
      "Uploading build artifacts cache...\n",
      "Uploaded build artifacts cache (132B)\n",
      "Uploaded droplet (110M)\n",
      "Uploading complete\n",
      "Cell 0c245c16-1764-49cf-b3ab-3123e0ae036a stopping instance 10fa7018-1f80-46c7-9b47-f4559f2777de\n",
      "Cell 0c245c16-1764-49cf-b3ab-3123e0ae036a destroying container for instance 10fa7018-1f80-46c7-9b47-f4559f2777de\n",
      "Cell 0c245c16-1764-49cf-b3ab-3123e0ae036a successfully destroyed container for instance 10fa7018-1f80-46c7-9b47-f4559f2777de\n",
      "\n",
      "0 of 1 instances running, 1 starting\n",
      "0 of 1 instances running, 1 starting\n",
      "0 of 1 instances running, 1 starting\n",
      "1 of 1 instances running\n",
      "\u001b[38;1m\n",
      "App started\n",
      "\u001b[0m\n",
      "\n",
      "\u001b[32;1mOK\u001b[0m\n",
      "\n",
      "App \u001b[36;1mbikeincidents\u001b[0m was started using this command `JAVA_OPTS=\"-agentpath:$PWD/.java-buildpack/open_jdk_jre/bin/jvmkill-1.16.0_RELEASE=printHeapHistogram=1 -Djava.io.tmpdir=$TMPDIR -XX:ActiveProcessorCount=$(nproc) -Djava.ext.dirs=$PWD/.java-buildpack/container_security_provider:$PWD/.java-buildpack/open_jdk_jre/lib/ext -Djava.security.properties=$PWD/.java-buildpack/java_security/java.security $JAVA_OPTS\" && CALCULATED_MEMORY=$($PWD/.java-buildpack/open_jdk_jre/bin/java-buildpack-memory-calculator-3.13.0_RELEASE -totMemory=$MEMORY_LIMIT -loadedClasses=23915 -poolType=metaspace -stackThreads=250 -vmOptions=\"$JAVA_OPTS\") && echo JVM Memory Configuration: $CALCULATED_MEMORY && JAVA_OPTS=\"$JAVA_OPTS $CALCULATED_MEMORY\" && MALLOC_ARENA_MAX=2 SERVER_PORT=$PORT eval exec $PWD/.java-buildpack/open_jdk_jre/bin/java $JAVA_OPTS -cp $PWD/. org.springframework.boot.loader.JarLauncher`\n",
      "\n",
      "Showing health and status for app \u001b[36;1mbikeincidents\u001b[0m in org \u001b[36;1mascension\u001b[0m / space \u001b[36;1mdev\u001b[0m as \u001b[36;1madmin\u001b[0m...\n",
      "\u001b[32;1mOK\u001b[0m\n",
      "\n",
      "\u001b[38;1mrequested state:\u001b[0m started\n",
      "\u001b[38;1minstances:\u001b[0m 1/1\n",
      "\u001b[38;1musage:\u001b[0m 1G x 1 instances\n",
      "\u001b[38;1murls:\u001b[0m bikeincidents.apps.sanclemente.cf-app.com\n",
      "\u001b[38;1mlast uploaded:\u001b[0m Thu May 14 20:20:08 UTC 2020\n",
      "\u001b[38;1mstack:\u001b[0m cflinuxfs3\n",
      "\u001b[38;1mbuildpack:\u001b[0m client-certificate-mapper=1.11.0_RELEASE container-security-provider=1.16.0_RELEASE java-buildpack=\u001b[34mv4.29.1\u001b[0m-offline-https://github.com/cloudfoundry/java-buildpack.git#864477c java-main java-opts java-security jvmkill-agent=1.16.0_RELEASE open-j...\n",
      "\n",
      "\u001b[38;1m\u001b[0m     \u001b[38;1mstate\u001b[0m     \u001b[38;1msince\u001b[0m                    \u001b[38;1mcpu\u001b[0m    \u001b[38;1mmemory\u001b[0m         \u001b[38;1mdisk\u001b[0m           \u001b[38;1mdetails\u001b[0m\n",
      "\u001b[36;1m#0\u001b[0m   running   2020-05-14 03:21:18 PM   0.0%   140.1M of 1G   184.2M of 1G\n"
     ]
    }
   ],
   "source": [
    "cf push"
   ]
  },
  {
   "cell_type": "code",
   "execution_count": null,
   "metadata": {},
   "outputs": [],
   "source": []
  }
 ],
 "metadata": {
  "kernelspec": {
   "display_name": "Z shell",
   "language": "zsh",
   "name": "zsh"
  },
  "language_info": {
   "codemirror_mode": "shell",
   "file_extension": ".zsh",
   "mimetype": "text/x-zsh",
   "name": "zsh",
   "pygments_lexer": "shell",
   "version": "5.7.1"
  }
 },
 "nbformat": 4,
 "nbformat_minor": 4
}
