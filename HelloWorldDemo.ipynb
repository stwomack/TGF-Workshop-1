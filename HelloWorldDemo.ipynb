{
 "cells": [
  {
   "cell_type": "code",
   "execution_count": 1,
   "metadata": {},
   "outputs": [],
   "source": [
    "cd cloud-cache-examples/hello-world"
   ]
  },
  {
   "cell_type": "raw",
   "metadata": {},
   "source": [
    "cat gradle.properties"
   ]
  },
  {
   "cell_type": "markdown",
   "metadata": {},
   "source": [
    "./gradlew build"
   ]
  },
  {
   "cell_type": "code",
   "execution_count": 2,
   "metadata": {},
   "outputs": [
    {
     "name": "stdout",
     "output_type": "stream",
     "text": [
      "#  Copyright (C) 2019-Present Pivotal Software, Inc. All rights reserved.\n",
      "#\n",
      "#  This program and the accompanying materials are made available under the terms of the under the Apache License, Version\n",
      "#  2.0 (the \"License”); you may not use this file except in compliance with the License. You may obtain a copy of the\n",
      "#  License at\n",
      "#\n",
      "#  http://www.apache.org/licenses/LICENSE-2.0\n",
      "#\n",
      "#  Unless required by applicable law or agreed to in writing, software distributed under the License is distributed on an\n",
      "#  \"AS IS\" BASIS, WITHOUT WARRANTIES OR CONDITIONS OF ANY KIND, either express or implied. See the License for the specific\n",
      "\n",
      "---\n",
      "applications:\n",
      "  - name: helloworld\n",
      "    path: ./build/libs/hello-world.jar\n",
      "    services:\n",
      "      - tgf-small\n",
      "\n",
      "\n"
     ]
    }
   ],
   "source": [
    "cat manifest.yml"
   ]
  },
  {
   "cell_type": "code",
   "execution_count": 4,
   "metadata": {
    "jupyter": {
     "source_hidden": true
    }
   },
   "outputs": [
    {
     "name": "stdout",
     "output_type": "stream",
     "text": [
      "Using manifest file \u001b[36;1m/Users/swomack/workspace-tgf/TGF-Workshop-1/cloud-cache-examples/hello-world/manifest.yml\u001b[0m\n",
      "\n",
      "Creating app \u001b[36;1mhello-{random-word}\u001b[0m in org \u001b[36;1mnorth-area\u001b[0m / space \u001b[36;1mwomack\u001b[0m as \u001b[36;1mswomack@pivotal.io\u001b[0m...\n",
      "\u001b[32;1mOK\u001b[0m\n",
      "\n",
      "Creating route \u001b[36;1mhello-random-word.cfapps.io\u001b[0m...\n",
      "\u001b[32;1mOK\u001b[0m\n",
      "\n",
      "Binding \u001b[36;1mhello-random-word.cfapps.io\u001b[0m to \u001b[36;1mhello-{random-word}\u001b[0m...\n",
      "\u001b[32;1mOK\u001b[0m\n",
      "\n",
      "Uploading \u001b[36;1mhello-{random-word}\u001b[0m...\n",
      "Uploading app files from: /var/folders/gx/chs6597d31n1v5ns2r6954040000gn/T/unzipped-app146485812\n",
      "Uploading 566.7K, 98 files\n",
      "Done uploading               \n",
      "\u001b[32;1mOK\u001b[0m\n",
      "\u001b[31;1mFAILED\u001b[0m\n",
      "Could not find service tgf-small to bind to hello-{random-word}\n"
     ]
    }
   ],
   "source": [
    "cf push hello-{random-word}"
   ]
  },
  {
   "cell_type": "code",
   "execution_count": null,
   "metadata": {},
   "outputs": [],
   "source": []
  }
 ],
 "metadata": {
  "kernelspec": {
   "display_name": "Z shell",
   "language": "zsh",
   "name": "zsh"
  },
  "language_info": {
   "codemirror_mode": "shell",
   "file_extension": ".zsh",
   "mimetype": "text/x-zsh",
   "name": "zsh",
   "pygments_lexer": "shell",
   "version": "5.7.1"
  }
 },
 "nbformat": 4,
 "nbformat_minor": 4
}
